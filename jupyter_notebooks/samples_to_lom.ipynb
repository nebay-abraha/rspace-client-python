{
 "cells": [
  {
   "cell_type": "markdown",
   "id": "49a9bb2e",
   "metadata": {},
   "source": [
    "This script prepares for an experiment testing a set of samples. \n",
    "\n",
    "It creates a notebook with an entry\n",
    "for each sample assay. \n",
    "\n",
    "A ListOfMaterials is attached to each notebook entry linking to the information and physical location of the sample.\n",
    "\n",
    "This sort of script could be use to prepare notebooks for the scientists performing the experiement, cutting down on tedious manual data entry. "
   ]
  },
  {
   "cell_type": "markdown",
   "id": "e6c0cf9d",
   "metadata": {},
   "source": [
    "Set up CLI and assert it's working OK. You'll need RSpace 1.70 or later, and rspace_client 2.0.0 alpha."
   ]
  },
  {
   "cell_type": "code",
   "execution_count": 12,
   "id": "c7ba1578",
   "metadata": {},
   "outputs": [
    {
     "data": {
      "text/plain": [
       "{'message': 'OK', 'rspaceVersion': '1.70.4-SNAPSHOT-2021-09-30T22:15:08Z'}"
      ]
     },
     "execution_count": 12,
     "metadata": {},
     "output_type": "execute_result"
    }
   ],
   "source": [
    "import rspace_client.inv.inv as inv\n",
    "import rspace_client.eln.eln as eln\n",
    "import os\n",
    "inv_cli = inv.InventoryClient(os.getenv(\"RSPACE_URL\"), os.getenv(\"RSPACE_API_KEY\"))\n",
    "eln_cli  = eln.ELNClient(os.getenv(\"RSPACE_URL\"), os.getenv(\"RSPACE_API_KEY\"))\n",
    "inv_cli.get_workbenches()\n",
    "eln_cli.get_status()"
   ]
  },
  {
   "cell_type": "markdown",
   "id": "e0d8d1d8",
   "metadata": {},
   "source": [
    "Read in sample information from a file. In these case these are Uniprot identifiers but could be anything - perhaps identifiers generated automatically as part of some automted synthesis or sample preparation"
   ]
  },
  {
   "cell_type": "code",
   "execution_count": 13,
   "id": "c9c9d097",
   "metadata": {},
   "outputs": [
    {
     "name": "stdout",
     "output_type": "stream",
     "text": [
      "['P12235', 'P12235', 'O00555', 'O00555', 'Q96F25', 'Q8TD30', 'Q01484', 'Q01484', 'Q01484', 'Q01484']\n"
     ]
    },
    {
     "data": {
      "text/plain": [
       "95"
      ]
     },
     "execution_count": 13,
     "metadata": {},
     "output_type": "execute_result"
    }
   ],
   "source": [
    "\n",
    "with open(\"proteins.csv\", \"r\") as reader:\n",
    "    samples = reader.read().splitlines()[1:]\n",
    "print(samples[0:10])\n",
    "len(samples)"
   ]
  },
  {
   "cell_type": "markdown",
   "id": "97e5fba1",
   "metadata": {},
   "source": [
    "Now we'll create a 96 well plate to represent the location of the samples to assay"
   ]
  },
  {
   "cell_type": "code",
   "execution_count": 14,
   "id": "124996e4",
   "metadata": {},
   "outputs": [],
   "source": [
    "plate_96 = inv_cli.create_grid_container(column_count=8, row_count=12, name=\"LossOFFunctionMutationsAssay#1\")"
   ]
  },
  {
   "cell_type": "markdown",
   "id": "41fb08ca",
   "metadata": {},
   "source": [
    "Now we'll create the samples"
   ]
  },
  {
   "cell_type": "code",
   "execution_count": 15,
   "id": "badc0727",
   "metadata": {},
   "outputs": [
    {
     "name": "stdout",
     "output_type": "stream",
     "text": [
      "Creating sample P12235\n",
      "Creating sample P12235\n",
      "Creating sample O00555\n",
      "Creating sample O00555\n",
      "Creating sample Q96F25\n",
      "Creating sample Q8TD30\n",
      "Creating sample Q01484\n",
      "Creating sample Q01484\n",
      "Creating sample Q01484\n",
      "Creating sample Q01484\n",
      "Creating sample P41181\n",
      "Creating sample Q6ZSZ5\n",
      "Creating sample P50993\n",
      "Creating sample P50993\n",
      "Creating sample P30049\n",
      "Creating sample P30049\n"
     ]
    }
   ],
   "source": [
    "created_samples = []\n",
    "for sample in samples[0:16]:\n",
    "    print(f\"Creating sample {sample}\")\n",
    "    created_samples.append(inv_cli.create_sample(sample, tags=\"loss-of-function\", subsample_count=5))"
   ]
  },
  {
   "cell_type": "code",
   "execution_count": 16,
   "id": "4d34c1c1",
   "metadata": {},
   "outputs": [],
   "source": [
    "aliquots = [s['subSamples'][0] for s in created_samples ]"
   ]
  },
  {
   "cell_type": "markdown",
   "id": "db8b9a62",
   "metadata": {},
   "source": [
    "Here we are auto-placing items row by row, but we can also set item locations individually or column by column."
   ]
  },
  {
   "cell_type": "code",
   "execution_count": 17,
   "id": "d41443cd",
   "metadata": {},
   "outputs": [
    {
     "data": {
      "text/plain": [
       "<rspace_client.inv.inv.BulkOperationResult at 0x7fa1b86983a0>"
      ]
     },
     "execution_count": 17,
     "metadata": {},
     "output_type": "execute_result"
    }
   ],
   "source": [
    "by_row = inv.ByRow(1,1,8,12, *subsamples)\n",
    "inv_cli.add_items_to_grid_container(target_container_id=plate_96['id'], grid_placement=by_row)"
   ]
  },
  {
   "cell_type": "markdown",
   "id": "09094584",
   "metadata": {},
   "source": [
    "We've finished adding information to Inventory. \n",
    "Now we can create a notebook with entries - 1 per sample.\n",
    "\n",
    "Each entry has a ListOfMaterials linking to the sample."
   ]
  },
  {
   "cell_type": "code",
   "execution_count": 18,
   "id": "28239490",
   "metadata": {},
   "outputs": [
    {
     "name": "stdout",
     "output_type": "stream",
     "text": [
      "done - see prepared notebook NB732\n"
     ]
    }
   ],
   "source": [
    "nb = eln_cli.create_folder(name=\"Sample Assay#1\", notebook=True)\n",
    "\n",
    "## we'd get this form ID from the UI. Or we could just create unstructured documents with single text fields.\n",
    "EXPERIMENT_FORM_ID = 3\n",
    "\n",
    "for i in range(len(subsamples)):\n",
    "    doc = eln_cli.create_document(name=f\"assay{i}-{created_samples[i]['name']}\", \n",
    "                                  form_id=EXPERIMENT_FORM_ID, parent_folder_id=nb['id'])\n",
    "    \n",
    "    ## this is the 2nd field - 'Objective'\n",
    "    field_id = doc['fields'][1]['id']\n",
    "    lom =  inv_cli.create_list_of_materials(field_id, \"Assay target details\", subsamples[i], description=\" desc\")\n",
    "print(f\"done - see prepared notebook {nb['globalId']}\")"
   ]
  },
  {
   "cell_type": "markdown",
   "id": "65becef6",
   "metadata": {},
   "source": [
    "At the end of this script we have:\n",
    "\n",
    "- Added sample and location information to Inventory\n",
    "- prepared a notebook with entries of structured data (Objective, Method, Results\n",
    "- Created a  List of Materials linking to information about the sample.\n",
    "\n",
    "All that's left to do now is perform the experiment! "
   ]
  }
 ],
 "metadata": {
  "kernelspec": {
   "display_name": "Python 3",
   "language": "python",
   "name": "python3"
  },
  "language_info": {
   "codemirror_mode": {
    "name": "ipython",
    "version": 3
   },
   "file_extension": ".py",
   "mimetype": "text/x-python",
   "name": "python",
   "nbconvert_exporter": "python",
   "pygments_lexer": "ipython3",
   "version": "3.8.8"
  }
 },
 "nbformat": 4,
 "nbformat_minor": 5
}
